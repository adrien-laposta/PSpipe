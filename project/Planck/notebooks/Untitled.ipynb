{
 "cells": [
  {
   "cell_type": "code",
   "execution_count": 2,
   "metadata": {},
   "outputs": [
    {
     "name": "stdout",
     "output_type": "stream",
     "text": [
      "The autoreload extension is already loaded. To reload it, use:\n",
      "  %reload_ext autoreload\n"
     ]
    }
   ],
   "source": [
    "%matplotlib inline\n",
    "%load_ext autoreload\n",
    "%autoreload 2\n",
    "%config InlineBackend.figure_format = 'retina'\n",
    "\n",
    "import numpy as np\n",
    "import matplotlib.pyplot as plt"
   ]
  },
  {
   "cell_type": "code",
   "execution_count": 4,
   "metadata": {},
   "outputs": [
    {
     "ename": "FileNotFoundError",
     "evalue": "[Errno 2] No such file or directory: '-f'",
     "output_type": "error",
     "traceback": [
      "\u001b[0;31m---------------------------------------------------------------------------\u001b[0m",
      "\u001b[0;31mFileNotFoundError\u001b[0m                         Traceback (most recent call last)",
      "\u001b[0;32m<ipython-input-4-1c15bf9538cb>\u001b[0m in \u001b[0;36m<module>\u001b[0;34m\u001b[0m\n\u001b[1;32m      7\u001b[0m \u001b[0;34m\u001b[0m\u001b[0m\n\u001b[1;32m      8\u001b[0m \u001b[0md\u001b[0m \u001b[0;34m=\u001b[0m \u001b[0mso_dict\u001b[0m\u001b[0;34m.\u001b[0m\u001b[0mso_dict\u001b[0m\u001b[0;34m(\u001b[0m\u001b[0;34m)\u001b[0m\u001b[0;34m\u001b[0m\u001b[0;34m\u001b[0m\u001b[0m\n\u001b[0;32m----> 9\u001b[0;31m \u001b[0md\u001b[0m\u001b[0;34m.\u001b[0m\u001b[0mread_from_file\u001b[0m\u001b[0;34m(\u001b[0m\u001b[0msys\u001b[0m\u001b[0;34m.\u001b[0m\u001b[0margv\u001b[0m\u001b[0;34m[\u001b[0m\u001b[0;36m1\u001b[0m\u001b[0;34m]\u001b[0m\u001b[0;34m)\u001b[0m\u001b[0;34m\u001b[0m\u001b[0;34m\u001b[0m\u001b[0m\n\u001b[0m\u001b[1;32m     10\u001b[0m \u001b[0;34m\u001b[0m\u001b[0m\n\u001b[1;32m     11\u001b[0m \u001b[0;34m\u001b[0m\u001b[0m\n",
      "\u001b[0;32m~/Installs/PSpipe/pspy/so_dict.py\u001b[0m in \u001b[0;36mread_from_file\u001b[0;34m(self, filename)\u001b[0m\n\u001b[1;32m     37\u001b[0m \u001b[0;34m\u001b[0m\u001b[0m\n\u001b[1;32m     38\u001b[0m     \u001b[0;32mdef\u001b[0m \u001b[0mread_from_file\u001b[0m\u001b[0;34m(\u001b[0m \u001b[0mself\u001b[0m\u001b[0;34m,\u001b[0m \u001b[0mfilename\u001b[0m \u001b[0;34m)\u001b[0m\u001b[0;34m:\u001b[0m\u001b[0;34m\u001b[0m\u001b[0;34m\u001b[0m\u001b[0m\n\u001b[0;32m---> 39\u001b[0;31m         \u001b[0mf\u001b[0m \u001b[0;34m=\u001b[0m \u001b[0mopen\u001b[0m\u001b[0;34m(\u001b[0m \u001b[0mfilename\u001b[0m \u001b[0;34m)\u001b[0m\u001b[0;34m\u001b[0m\u001b[0;34m\u001b[0m\u001b[0m\n\u001b[0m\u001b[1;32m     40\u001b[0m         \u001b[0mold\u001b[0m \u001b[0;34m=\u001b[0m \u001b[0;34m''\u001b[0m\u001b[0;34m\u001b[0m\u001b[0;34m\u001b[0m\u001b[0m\n\u001b[1;32m     41\u001b[0m         \u001b[0;32mfor\u001b[0m \u001b[0mline\u001b[0m \u001b[0;32min\u001b[0m \u001b[0mf\u001b[0m\u001b[0;34m:\u001b[0m\u001b[0;34m\u001b[0m\u001b[0;34m\u001b[0m\u001b[0m\n",
      "\u001b[0;31mFileNotFoundError\u001b[0m: [Errno 2] No such file or directory: '-f'"
     ]
    }
   ],
   "source": [
    "import matplotlib\n",
    "import numpy as np,healpy as hp,pylab as plt\n",
    "from pspy import so_dict, so_map,so_mcm,sph_tools,so_spectra,pspy_utils, so_map_preprocessing\n",
    "import os,sys\n",
    "from pixell import enmap\n",
    "import time\n",
    "\n",
    "d = so_dict.so_dict()\n",
    "d.read_from_file(sys.argv[1])\n",
    "\n",
    "\n",
    "auxMapDir='window'\n",
    "mcmDir='mcm'\n",
    "\n",
    "try:\n",
    "    os.makedirs(mcmDir)\n",
    "except:\n",
    "    pass\n",
    "try:\n",
    "    os.makedirs(auxMapDir)\n",
    "except:\n",
    "    pass\n",
    "\n",
    "\n",
    "arrays=d['arrays']\n",
    "niter=d['niter']\n",
    "lmax=d['lmax']\n",
    "type=d['type']\n",
    "binning_file=d['binning_file']\n",
    "pixWin=d['pixWin']\n",
    "\n",
    "print ('compute all Planck mode coupling matrices')\n",
    "\n",
    "split=['hm1','hm2']\n",
    "\n",
    "for c1,ar1 in enumerate(arrays):\n",
    "    maps1= d['map_%s'%ar1]\n",
    "    for hm1,map1,count1 in zip(split,maps1,np.arange(2)):\n",
    "        \n",
    "        window_T_1=so_map.read_map(d['window_T_%s'%ar1])\n",
    "        window_pol_1=so_map.read_map(d['window_pol_%s'%ar1])\n",
    "        \n",
    "        cov_map=so_map.read_map('%s'%map1,fields_healpix=4)\n",
    "        badpix = (cov_map.data<-1e30)\n",
    "        window_T_1.data[badpix]=0.0\n",
    "        window_pol_1.data[badpix]=0.0\n",
    "    \n",
    "        window_T_1.write_map('%s/window_T_%s_%s.fits'%(auxMapDir,hm1,ar1))\n",
    "        window_pol_1.write_map('%s/window_pol_%s_%s.fits'%(auxMapDir,hm1,ar1))\n",
    "\n",
    "        window_tuple1=(window_T_1,window_pol_1)\n",
    "        \n",
    "        del window_T_1,window_pol_1,cov_map\n",
    "    \n",
    "        beam1= np.loadtxt(d['beam_%s'%ar1])\n",
    "        l,bl1=beam1[:,0],beam1[:,1]\n",
    "        if pixWin==True:\n",
    "            bl1*=hp.pixwin(window_tuple1[0].nside)[:len(bl1)]\n",
    "    \n",
    "        bl_tuple1=(bl1,bl1)\n",
    "\n",
    "        for c2,ar2 in enumerate(arrays):\n",
    "            if c1>c2: continue\n",
    "            maps2= d['map_%s'%ar2]\n",
    "            for hm2,map2,count2 in zip(split,maps2,np.arange(2)):\n",
    "                print (count1,count2)\n",
    "                if (count1>count2) & (c1==c2): continue\n",
    "\n",
    "                window_T_2=so_map.read_map(d['window_T_%s'%ar2])\n",
    "                window_pol_2=so_map.read_map(d['window_pol_%s'%ar2])\n",
    "\n",
    "                cov_map=so_map.read_map('%s'%map2,fields_healpix=4)\n",
    "                badpix = (cov_map.data<-1e30)\n",
    "                window_T_2.data[badpix]=0.0\n",
    "                window_pol_2.data[badpix]=0.0\n",
    "\n",
    "                window_tuple2=(window_T_2,window_pol_2)\n",
    "\n",
    "                del window_T_2,window_pol_2,cov_map\n",
    "\n",
    "                beam2= np.loadtxt(d['beam_%s'%ar2])\n",
    "                l,bl2=beam2[:,0],beam2[:,1]\n",
    "                if pixWin==True:\n",
    "                    bl2*=hp.pixwin(window_tuple2[0].nside)[:len(bl2)]\n",
    "        \n",
    "                bl_tuple2=(bl2,bl2)\n",
    "\n",
    "                mbb_inv,Bbl=so_mcm.mcm_and_bbl_spin0and2(\n",
    "                    win1=window_tuple1,\n",
    "                    win2=window_tuple2, \n",
    "                    binning_file=binning_file, \n",
    "                    bl1=bl_tuple1,bl2=bl_tuple2, \n",
    "                    lmax=lmax,niter=niter, \n",
    "                    type=type,save_file='%s/%sx%s_%sx%s'%(mcmDir,ar1,ar2,hm1,hm2))"
   ]
  },
  {
   "cell_type": "code",
   "execution_count": null,
   "metadata": {},
   "outputs": [],
   "source": []
  }
 ],
 "metadata": {
  "kernelspec": {
   "display_name": "Python 3",
   "language": "python",
   "name": "python3"
  },
  "language_info": {
   "codemirror_mode": {
    "name": "ipython",
    "version": 3
   },
   "file_extension": ".py",
   "mimetype": "text/x-python",
   "name": "python",
   "nbconvert_exporter": "python",
   "pygments_lexer": "ipython3",
   "version": "3.6.8"
  }
 },
 "nbformat": 4,
 "nbformat_minor": 2
}
