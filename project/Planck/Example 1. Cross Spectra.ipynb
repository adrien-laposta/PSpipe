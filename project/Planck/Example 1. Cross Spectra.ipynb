{
 "cells": [
  {
   "cell_type": "code",
   "execution_count": 1,
   "metadata": {},
   "outputs": [],
   "source": [
    "%matplotlib inline\n",
    "%load_ext autoreload\n",
    "%autoreload 2\n",
    "%config InlineBackend.figure_format = 'retina'"
   ]
  },
  {
   "cell_type": "code",
   "execution_count": 2,
   "metadata": {},
   "outputs": [],
   "source": [
    "import numpy as np\n",
    "import matplotlib.pyplot as plt\n",
    "import healpy as hp\n",
    "\n",
    "from astropy.io import fits\n",
    "import scipy\n",
    "import pymaster as nmt"
   ]
  },
  {
   "cell_type": "code",
   "execution_count": 3,
   "metadata": {},
   "outputs": [],
   "source": [
    "f0, f1 = '143', '143'\n",
    "split0, split1 = '1', '2'\n",
    "lmax = 2500\n",
    "lmax_beam = 6500 # beam needs to extend to high enough ell for NaMaster\n",
    "nside = 2048"
   ]
  },
  {
   "cell_type": "code",
   "execution_count": 4,
   "metadata": {},
   "outputs": [
    {
     "ename": "OSError",
     "evalue": "planck_beam/beam_likelihood_143hm1x143hm2.dat not found.",
     "output_type": "error",
     "traceback": [
      "\u001b[0;31m---------------------------------------------------------------------------\u001b[0m",
      "\u001b[0;31mOSError\u001b[0m                                   Traceback (most recent call last)",
      "\u001b[0;32m<ipython-input-4-5078da50eae0>\u001b[0m in \u001b[0;36m<module>\u001b[0;34m\u001b[0m\n\u001b[1;32m      1\u001b[0m \u001b[0mbeam_filename\u001b[0m \u001b[0;34m=\u001b[0m \u001b[0;34mf'planck_beam/beam_likelihood_{f0}hm1x{f1}hm2.dat'\u001b[0m\u001b[0;34m\u001b[0m\u001b[0;34m\u001b[0m\u001b[0m\n\u001b[0;32m----> 2\u001b[0;31m \u001b[0mbeam_ell\u001b[0m\u001b[0;34m,\u001b[0m \u001b[0mbeam\u001b[0m \u001b[0;34m=\u001b[0m \u001b[0mnp\u001b[0m\u001b[0;34m.\u001b[0m\u001b[0mgenfromtxt\u001b[0m\u001b[0;34m(\u001b[0m\u001b[0mbeam_filename\u001b[0m\u001b[0;34m,\u001b[0m \u001b[0munpack\u001b[0m\u001b[0;34m=\u001b[0m\u001b[0;32mTrue\u001b[0m\u001b[0;34m)\u001b[0m \u001b[0;31m# beam file is ell, Bl\u001b[0m\u001b[0;34m\u001b[0m\u001b[0;34m\u001b[0m\u001b[0m\n\u001b[0m\u001b[1;32m      3\u001b[0m \u001b[0mBl\u001b[0m \u001b[0;34m=\u001b[0m \u001b[0mnp\u001b[0m\u001b[0;34m.\u001b[0m\u001b[0mzeros\u001b[0m\u001b[0;34m(\u001b[0m\u001b[0mlmax_beam\u001b[0m\u001b[0;34m)\u001b[0m\u001b[0;34m\u001b[0m\u001b[0;34m\u001b[0m\u001b[0m\n\u001b[1;32m      4\u001b[0m \u001b[0mBl\u001b[0m\u001b[0;34m[\u001b[0m\u001b[0mbeam_ell\u001b[0m\u001b[0;34m.\u001b[0m\u001b[0mastype\u001b[0m\u001b[0;34m(\u001b[0m\u001b[0mint\u001b[0m\u001b[0;34m)\u001b[0m\u001b[0;34m]\u001b[0m \u001b[0;34m=\u001b[0m \u001b[0mbeam\u001b[0m\u001b[0;34m\u001b[0m\u001b[0;34m\u001b[0m\u001b[0m\n\u001b[1;32m      5\u001b[0m \u001b[0;34m\u001b[0m\u001b[0m\n",
      "\u001b[0;32m~/anaconda3/lib/python3.6/site-packages/numpy/lib/npyio.py\u001b[0m in \u001b[0;36mgenfromtxt\u001b[0;34m(fname, dtype, comments, delimiter, skip_header, skip_footer, converters, missing_values, filling_values, usecols, names, excludelist, deletechars, replace_space, autostrip, case_sensitive, defaultfmt, unpack, usemask, loose, invalid_raise, max_rows, encoding)\u001b[0m\n\u001b[1;32m   1698\u001b[0m             \u001b[0mfname\u001b[0m \u001b[0;34m=\u001b[0m \u001b[0mstr\u001b[0m\u001b[0;34m(\u001b[0m\u001b[0mfname\u001b[0m\u001b[0;34m)\u001b[0m\u001b[0;34m\u001b[0m\u001b[0;34m\u001b[0m\u001b[0m\n\u001b[1;32m   1699\u001b[0m         \u001b[0;32mif\u001b[0m \u001b[0misinstance\u001b[0m\u001b[0;34m(\u001b[0m\u001b[0mfname\u001b[0m\u001b[0;34m,\u001b[0m \u001b[0mbasestring\u001b[0m\u001b[0;34m)\u001b[0m\u001b[0;34m:\u001b[0m\u001b[0;34m\u001b[0m\u001b[0;34m\u001b[0m\u001b[0m\n\u001b[0;32m-> 1700\u001b[0;31m             \u001b[0mfhd\u001b[0m \u001b[0;34m=\u001b[0m \u001b[0miter\u001b[0m\u001b[0;34m(\u001b[0m\u001b[0mnp\u001b[0m\u001b[0;34m.\u001b[0m\u001b[0mlib\u001b[0m\u001b[0;34m.\u001b[0m\u001b[0m_datasource\u001b[0m\u001b[0;34m.\u001b[0m\u001b[0mopen\u001b[0m\u001b[0;34m(\u001b[0m\u001b[0mfname\u001b[0m\u001b[0;34m,\u001b[0m \u001b[0;34m'rt'\u001b[0m\u001b[0;34m,\u001b[0m \u001b[0mencoding\u001b[0m\u001b[0;34m=\u001b[0m\u001b[0mencoding\u001b[0m\u001b[0;34m)\u001b[0m\u001b[0;34m)\u001b[0m\u001b[0;34m\u001b[0m\u001b[0;34m\u001b[0m\u001b[0m\n\u001b[0m\u001b[1;32m   1701\u001b[0m             \u001b[0mown_fhd\u001b[0m \u001b[0;34m=\u001b[0m \u001b[0;32mTrue\u001b[0m\u001b[0;34m\u001b[0m\u001b[0;34m\u001b[0m\u001b[0m\n\u001b[1;32m   1702\u001b[0m         \u001b[0;32melse\u001b[0m\u001b[0;34m:\u001b[0m\u001b[0;34m\u001b[0m\u001b[0;34m\u001b[0m\u001b[0m\n",
      "\u001b[0;32m~/anaconda3/lib/python3.6/site-packages/numpy/lib/_datasource.py\u001b[0m in \u001b[0;36mopen\u001b[0;34m(path, mode, destpath, encoding, newline)\u001b[0m\n\u001b[1;32m    260\u001b[0m \u001b[0;34m\u001b[0m\u001b[0m\n\u001b[1;32m    261\u001b[0m     \u001b[0mds\u001b[0m \u001b[0;34m=\u001b[0m \u001b[0mDataSource\u001b[0m\u001b[0;34m(\u001b[0m\u001b[0mdestpath\u001b[0m\u001b[0;34m)\u001b[0m\u001b[0;34m\u001b[0m\u001b[0;34m\u001b[0m\u001b[0m\n\u001b[0;32m--> 262\u001b[0;31m     \u001b[0;32mreturn\u001b[0m \u001b[0mds\u001b[0m\u001b[0;34m.\u001b[0m\u001b[0mopen\u001b[0m\u001b[0;34m(\u001b[0m\u001b[0mpath\u001b[0m\u001b[0;34m,\u001b[0m \u001b[0mmode\u001b[0m\u001b[0;34m,\u001b[0m \u001b[0mencoding\u001b[0m\u001b[0;34m=\u001b[0m\u001b[0mencoding\u001b[0m\u001b[0;34m,\u001b[0m \u001b[0mnewline\u001b[0m\u001b[0;34m=\u001b[0m\u001b[0mnewline\u001b[0m\u001b[0;34m)\u001b[0m\u001b[0;34m\u001b[0m\u001b[0;34m\u001b[0m\u001b[0m\n\u001b[0m\u001b[1;32m    263\u001b[0m \u001b[0;34m\u001b[0m\u001b[0m\n\u001b[1;32m    264\u001b[0m \u001b[0;34m\u001b[0m\u001b[0m\n",
      "\u001b[0;32m~/anaconda3/lib/python3.6/site-packages/numpy/lib/_datasource.py\u001b[0m in \u001b[0;36mopen\u001b[0;34m(self, path, mode, encoding, newline)\u001b[0m\n\u001b[1;32m    616\u001b[0m                                       encoding=encoding, newline=newline)\n\u001b[1;32m    617\u001b[0m         \u001b[0;32melse\u001b[0m\u001b[0;34m:\u001b[0m\u001b[0;34m\u001b[0m\u001b[0;34m\u001b[0m\u001b[0m\n\u001b[0;32m--> 618\u001b[0;31m             \u001b[0;32mraise\u001b[0m \u001b[0mIOError\u001b[0m\u001b[0;34m(\u001b[0m\u001b[0;34m\"%s not found.\"\u001b[0m \u001b[0;34m%\u001b[0m \u001b[0mpath\u001b[0m\u001b[0;34m)\u001b[0m\u001b[0;34m\u001b[0m\u001b[0;34m\u001b[0m\u001b[0m\n\u001b[0m\u001b[1;32m    619\u001b[0m \u001b[0;34m\u001b[0m\u001b[0m\n\u001b[1;32m    620\u001b[0m \u001b[0;34m\u001b[0m\u001b[0m\n",
      "\u001b[0;31mOSError\u001b[0m: planck_beam/beam_likelihood_143hm1x143hm2.dat not found."
     ]
    }
   ],
   "source": [
    "beam_filename = f'planck_beam/beam_likelihood_{f0}hm1x{f1}hm2.dat'\n",
    "beam_ell, beam = np.genfromtxt(beam_filename, unpack=True) # beam file is ell, Bl\n",
    "Bl = np.zeros(lmax_beam)\n",
    "Bl[beam_ell.astype(int)] = beam\n",
    "\n",
    "binleft, binright = np.genfromtxt('Planck_data/binused.dat', \n",
    "                                  unpack=True, usecols=(0,1), dtype=((int), (int)))\n",
    "ells = np.arange(lmax)\n",
    "bpws = -1+np.zeros_like(ells) #Array of bandpower indices\n",
    "for i, (bl, br) in enumerate(zip(binleft, binright)):\n",
    "    bpws[bl:br+1] = i\n",
    "weights = np.array([1 for l in range(lmax)])\n",
    "b = nmt.NmtBin(nside, bpws=bpws, ells=ells, weights=weights, lmax=lmax, is_Dell=True)\n",
    "lb = b.get_effective_ells()\n",
    "\n",
    "mask0 = hp.read_map(f'masks/COM_Mask_Likelihood-temperature-{f0}_2048_R2.00.fits', verbose=False)\n",
    "mask1 = hp.read_map(f'masks/COM_Mask_Likelihood-temperature-{f1}_2048_R2.00.fits', verbose=False)\n",
    "\n",
    "\n",
    "fig, ax = plt.subplots(1, 3, figsize=(18,5), gridspec_kw = {'width_ratios':[1, 1, 2]})\n",
    "ax[0].plot( np.arange(lmax_beam), Bl)\n",
    "ax[0].set_ylabel(r\"$B_{\\ell}$\")\n",
    "ax[1].plot(bpws, 'k-')\n",
    "ax[1].set_ylabel('bin')\n",
    "ax[1].set_xlabel(r'$\\ell$')\n",
    "fig.tight_layout()\n",
    "\n",
    "plt.sca(ax[2])\n",
    "hp.mollview(mask0, hold=True, title='T mask')"
   ]
  },
  {
   "cell_type": "code",
   "execution_count": null,
   "metadata": {},
   "outputs": [],
   "source": [
    "m0_file = f'maps/PR3/frequencyMaps/HFI_SkyMap_{f0}_2048_R3.01_halfmission-{split0}.fits'\n",
    "m1_file = f'maps/PR3/frequencyMaps/HFI_SkyMap_{f1}_2048_R3.01_halfmission-{split1}.fits'\n",
    "\n",
    "map0 = [hp.read_map(m0_file, field=0, verbose=False)] # I\n",
    "map1 = [hp.read_map(m1_file, field=0, verbose=False)] # I\n",
    "\n",
    "# m0_file = f'maps/PR2/frequencyMaps/HFI_SkyMap_{f0}_2048_R2.02_halfmission-{split0}.fits'\n",
    "# m1_file = f'maps/PR2/frequencyMaps/HFI_SkyMap_{f1}_2048_R2.02_halfmission-{split1}.fits'\n",
    "\n",
    "# map0 = [hp.read_map(m0_file, field=0, verbose=False), # I\n",
    "#         hp.read_map(m0_file, field=1, verbose=False), # Q\n",
    "#         hp.read_map(m0_file, field=2, verbose=False)] # U\n",
    "# map1 = [hp.read_map(m1_file, field=0, verbose=False), # I\n",
    "#         hp.read_map(m1_file, field=1, verbose=False), # Q\n",
    "#         hp.read_map(m1_file, field=2, verbose=False)] # U"
   ]
  },
  {
   "cell_type": "code",
   "execution_count": null,
   "metadata": {},
   "outputs": [],
   "source": [
    "badpix0 = [(m < -1e30) for m in map0]\n",
    "badpix1 = [(m < -1e30) for m in map1]\n",
    "\n",
    "map0 = [ (~bp).astype(float) * m for m, bp in zip(map0, badpix0) ]\n",
    "map1 = [ (~bp).astype(float) * m for m, bp in zip(map1, badpix1) ]"
   ]
  },
  {
   "cell_type": "code",
   "execution_count": null,
   "metadata": {},
   "outputs": [],
   "source": [
    "pixel_window = hp.sphtfunc.pixwin(nside, pol=False)[:lmax_beam]"
   ]
  },
  {
   "cell_type": "code",
   "execution_count": null,
   "metadata": {},
   "outputs": [],
   "source": [
    "# NaMaster-CAR only supports niter=0\n",
    "i0 = nmt.NmtField(mask0,[map0[0]], beam=(Bl*pixel_window), n_iter=3)\n",
    "i1 = nmt.NmtField(mask1,[map1[0]], beam=(Bl*pixel_window), n_iter=3)\n",
    "cl_00 = nmt.compute_full_master(i0,i1,b)\n",
    "ell = b.get_effective_ells()"
   ]
  },
  {
   "cell_type": "code",
   "execution_count": null,
   "metadata": {},
   "outputs": [],
   "source": [
    "plt.figure(figsize=(12,8))\n",
    "lmin_,lmax_,l,cl,error=np.loadtxt('planck_spectra/spectra_' + 'TT_143x143' + '.dat',unpack=True)\n",
    "plt.errorbar(l,cl*l*(l+1)/(2*np.pi),error*l*(l+1)/(2*np.pi),fmt='.',label='%s'%'TT_143x143')\n",
    "plt.plot(ell, cl_00[0] *  1e6**2,'r.',label=r\"NaMaster\")\n",
    "\n",
    "plt.legend()\n",
    "plt.yscale('log')"
   ]
  },
  {
   "cell_type": "code",
   "execution_count": null,
   "metadata": {},
   "outputs": [],
   "source": [
    "plt.figure(figsize=(12,8))\n",
    "lmin_,lmax_,l,cl,error=np.loadtxt('planck_spectra/spectra_' + 'TT_143x143' + '.dat',unpack=True)\n",
    "plt.errorbar(l,cl*l*(l+1)/(2*np.pi),error*l*(l+1)/(2*np.pi),fmt='.',label='%s'%'TT_143x143')\n",
    "plt.plot(ell, cl_00[0] *  1e6**2,'r.',label=r\"NaMaster\")\n",
    "\n",
    "plt.legend()\n",
    "plt.xlim(10,500)"
   ]
  },
  {
   "cell_type": "code",
   "execution_count": null,
   "metadata": {},
   "outputs": [],
   "source": [
    "dl_error = error*l*(l+1)/(2*np.pi)\n",
    "dl = cl_00[0][6:199+6] *  1e6**2\n",
    "dl_ref = cl*l*(l+1)/(2*np.pi)"
   ]
  },
  {
   "cell_type": "code",
   "execution_count": null,
   "metadata": {},
   "outputs": [],
   "source": [
    "plt.figure(figsize=(12,6))\n",
    "plt.axhline(0, color='red', alpha=0.3)\n",
    "plt.plot( l,(dl - dl_ref) / (dl_error), 'k.')\n",
    "plt.ylabel(r'$(D_{\\ell} - D_{\\ell}^{\\mathrm{ref}}) / \\sigma_{D\\ell}$')\n",
    "# plt.ylim(0.98,1.02)"
   ]
  },
  {
   "cell_type": "code",
   "execution_count": null,
   "metadata": {},
   "outputs": [],
   "source": [
    "plt.figure(figsize=(12,6))\n",
    "plt.axhline(0, color='red', alpha=0.3)\n",
    "plt.errorbar( l,(dl - dl_ref), fmt='.', yerr=dl_error, elinewidth=1, color='#0072B2', ecolor='k')\n",
    "plt.ylabel(r'$D_{\\ell}^{TT} - D_{\\ell}^{TT,\\mathrm{ref}}$')\n",
    "plt.xlabel(r'$\\ell$')"
   ]
  },
  {
   "cell_type": "code",
   "execution_count": null,
   "metadata": {},
   "outputs": [],
   "source": []
  }
 ],
 "metadata": {
  "kernelspec": {
   "display_name": "Python 3",
   "language": "python",
   "name": "python3"
  },
  "language_info": {
   "codemirror_mode": {
    "name": "ipython",
    "version": 3
   },
   "file_extension": ".py",
   "mimetype": "text/x-python",
   "name": "python",
   "nbconvert_exporter": "python",
   "pygments_lexer": "ipython3",
   "version": "3.6.7"
  }
 },
 "nbformat": 4,
 "nbformat_minor": 2
}
