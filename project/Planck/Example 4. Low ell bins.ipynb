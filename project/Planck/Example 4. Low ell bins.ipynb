{
 "cells": [
  {
   "cell_type": "code",
   "execution_count": 1,
   "metadata": {},
   "outputs": [],
   "source": [
    "%matplotlib inline\n",
    "%load_ext autoreload\n",
    "%autoreload 2\n",
    "# %config InlineBackend.figure_format = 'retina'"
   ]
  },
  {
   "cell_type": "code",
   "execution_count": 2,
   "metadata": {},
   "outputs": [],
   "source": [
    "\"\"\"\n",
    "This is a test of spectra generation with pspy and namaster for spin0 fields.\n",
    "It is done in HEALPIX pixellisation\n",
    "\"\"\"\n",
    "import matplotlib\n",
    "from pspy import so_map,so_window,so_mcm,sph_tools,so_spectra, pspy_utils\n",
    "import healpy as hp, numpy as np, pylab as plt\n",
    "import os\n",
    "import pymaster as nmt"
   ]
  },
  {
   "cell_type": "markdown",
   "metadata": {},
   "source": [
    "## Generate Maps/Masks, Compute NaMaster"
   ]
  },
  {
   "cell_type": "code",
   "execution_count": 3,
   "metadata": {},
   "outputs": [
    {
     "name": "stdout",
     "output_type": "stream",
     "text": [
      "NSIDE = 512\n",
      "ORDERING = RING in fits file\n",
      "INDXSCHM = IMPLICIT\n",
      "NSIDE = 512\n",
      "ORDERING = RING in fits file\n",
      "INDXSCHM = IMPLICIT\n"
     ]
    }
   ],
   "source": [
    "#We  specify the HEALPIX survey parameter, it will be a disk of radius 25 degree centered on longitude 30 degree and latitude 50 degree\n",
    "# It will have a resolution nside=1024\n",
    "lon,lat=30,50\n",
    "radius=100\n",
    "nside=512\n",
    "# ncomp=1 mean that we are going to use only spin0 field (ncomp=3 for spin 0 and 2 fields\n",
    "ncomp=1\n",
    "# clfile are the camb lensed power spectra\n",
    "clfile='../../data/bode_almost_wmap5_lmax_1e4_lensedCls_startAt2.dat'\n",
    "# a binningfile with format, lmin,lmax,lmean\n",
    "binning_file='../../data/binningFile_100_50.dat'\n",
    "# the maximum multipole to consider\n",
    "lmax=3*nside-1\n",
    "# the number of iteration in map2alm\n",
    "niter=3\n",
    "# the noise on the spin0 component\n",
    "rms_uKarcmin_T=20\n",
    "# the apodisation lengh for the survey mask (in degree)\n",
    "apo_radius_degree_survey=1\n",
    "# the number of holes in the point source mask\n",
    "source_mask_nholes=100\n",
    "# the radius of the holes (in arcminutes)\n",
    "source_mask_radius=10\n",
    "# the apodisation lengh for the point source mask (in degree)\n",
    "apo_radius_degree_mask=0.3\n",
    "# the type of power spectrum (Cl or Dl)\n",
    "type='Cl'\n",
    "\n",
    "test_dir='result_pspyVSnamaster_spin0'\n",
    "try:\n",
    "    os.makedirs(test_dir)\n",
    "except:\n",
    "    pass\n",
    "\n",
    "# the templates for the CMB splits\n",
    "template= so_map.healpix_template(ncomp,nside=nside)\n",
    "# the templates for the binary mask\n",
    "binary=so_map.healpix_template(ncomp=1,nside=nside)\n",
    "# we set pixel inside the disk at 1 and pixel outside at zero\n",
    "vec=hp.pixelfunc.ang2vec(lon,lat, lonlat=True)\n",
    "disc=hp.query_disc(nside, vec, radius=radius*np.pi/180)\n",
    "binary.data[disc]=1\n",
    "\n",
    "#First let's generate a CMB realisation\n",
    "cmb=template.synfast(clfile)\n",
    "split=cmb.copy()\n",
    "#let's add noise to it with rms 20 uk.arcmin\n",
    "noise = so_map.white_noise(split,rms_uKarcmin_T=rms_uKarcmin_T)\n",
    "split.data+=noise.data\n",
    "\n",
    "#we then apodize the survey mask\n",
    "window=so_window.create_apodization(binary, apo_type='C1', apo_radius_degree=apo_radius_degree_survey)\n",
    "#we create a point source mask\n",
    "mask=so_map.simulate_source_mask(binary, nholes=source_mask_nholes, hole_radius_arcmin=source_mask_radius)\n",
    "#... and we apodize it\n",
    "mask= so_window.create_apodization(mask, apo_type='C1', apo_radius_degree=apo_radius_degree_mask)\n",
    "#the window is given by the product of the survey window and the mask window\n",
    "window.data*=mask.data"
   ]
  },
  {
   "cell_type": "code",
   "execution_count": 26,
   "metadata": {},
   "outputs": [],
   "source": [
    "def get_bonus_bins(width=5, top_ell=30):\n",
    "    bonus_bin_left, bonus_bin_right = [], []\n",
    "    counter = 0\n",
    "    for i in list(range(1,top_ell))[::-1]:\n",
    "        counter += 1\n",
    "        if counter % width == 0:\n",
    "            bonus_bin_left.append(i)\n",
    "            bonus_bin_right.append(i+width-1)\n",
    "        elif i == 2:\n",
    "            bonus_bin_left.append(i)\n",
    "            bonus_bin_right.append(width-1)\n",
    "    return bonus_bin_left[::-1], bonus_bin_right[::-1]"
   ]
  },
  {
   "cell_type": "code",
   "execution_count": 29,
   "metadata": {},
   "outputs": [],
   "source": [
    "lb_d = {}\n",
    "Cb_d = {}\n",
    "for w in [1, 2, 5, 10]:\n",
    "    bonus_left, bonus_right = get_bonus_bins(w)\n",
    "    binleft, binright = np.genfromtxt('planck_spectra/binused.dat', \n",
    "                                              unpack=True, usecols=(0,1), dtype=((int), (int)))\n",
    "    \n",
    "\n",
    "    binleft, binright = np.hstack((bonus_left,binleft)), np.hstack((bonus_right,binright))\n",
    "    ells = np.arange(3*nside)\n",
    "    bpws = -1+np.zeros_like(ells) #Array of bandpower indices\n",
    "    for i, (bl, br) in enumerate(zip(binleft, binright)):\n",
    "        bpws[bl:br+1] = i\n",
    "    weights = np.array([1 for l in ells])\n",
    "    b = nmt.NmtBin(nside, bpws=bpws, ells=ells, weights=weights, lmax=lmax, is_Dell=False)\n",
    "    lb = b.get_effective_ells()\n",
    "\n",
    "\n",
    "    # Compute spin 0 spectra a la namaster\n",
    "    # nlb=50\n",
    "    field=nmt.NmtField(window.data,[split.data])\n",
    "    cl_coupled=nmt.compute_coupled_cell(field,field)\n",
    "    # b=nmt.NmtBin(nside,nlb=nlb)\n",
    "    # lb=b.get_effective_ells()\n",
    "    w0=nmt.NmtWorkspace()\n",
    "    w0.compute_coupling_matrix(field,field,b)\n",
    "    Cb_namaster=w0.decouple_cell(cl_coupled)\n",
    "    lb_d[str(w)] = lb\n",
    "    Cb_d[str(w)] = Cb_namaster[0]"
   ]
  },
  {
   "cell_type": "code",
   "execution_count": 51,
   "metadata": {},
   "outputs": [
    {
     "data": {
      "text/plain": [
       "(-0.1, 0.1)"
      ]
     },
     "execution_count": 51,
     "metadata": {},
     "output_type": "execute_result"
    },
    {
     "data": {
      "image/png": "[encoded data removed]",
      "text/plain": [
       "<Figure size 432x288 with 1 Axes>"
      ]
     },
     "metadata": {
      "needs_background": "light"
     },
     "output_type": "display_data"
    }
   ],
   "source": [
    "l_ref, Cl_ref, _, _, _ = np.genfromtxt(clfile, unpack=True)\n",
    "\n",
    "for w in [1, 2, 5, 10]:\n",
    "    lb, Cb = lb_d[str(w)], Cb_d[str(w)]\n",
    "    \n",
    "    plt.plot( (lb), Cb / Cl_ref[lb.astype(int)] )\n",
    "plt.xlim(0,200)\n",
    "plt.ylim(-0.1, 0.1)"
   ]
  },
  {
   "cell_type": "code",
   "execution_count": null,
   "metadata": {},
   "outputs": [],
   "source": []
  },
  {
   "cell_type": "code",
   "execution_count": null,
   "metadata": {},
   "outputs": [],
   "source": []
  }
 ],
 "metadata": {
  "kernelspec": {
   "display_name": "Python 3",
   "language": "python",
   "name": "python3"
  },
  "language_info": {
   "codemirror_mode": {
    "name": "ipython",
    "version": 3
   },
   "file_extension": ".py",
   "mimetype": "text/x-python",
   "name": "python",
   "nbconvert_exporter": "python",
   "pygments_lexer": "ipython3",
   "version": "3.6.8"
  }
 },
 "nbformat": 4,
 "nbformat_minor": 2
}
